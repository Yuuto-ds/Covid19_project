{
  "nbformat": 4,
  "nbformat_minor": 0,
  "metadata": {
    "colab": {
      "provenance": [],
      "machine_shape": "hm",
      "gpuType": "T4"
    },
    "kernelspec": {
      "name": "python3",
      "display_name": "Python 3"
    },
    "language_info": {
      "name": "python"
    },
    "accelerator": "GPU"
  },
  "cells": [
    {
      "cell_type": "code",
      "execution_count": 1,
      "metadata": {
        "colab": {
          "base_uri": "https://localhost:8080/"
        },
        "id": "8UDphsJNLJhU",
        "outputId": "dd688d8c-9f15-4065-8ce3-5eac6fed2ddb"
      },
      "outputs": [
        {
          "output_type": "stream",
          "name": "stdout",
          "text": [
            "Mounted at /content/drive\n"
          ]
        }
      ],
      "source": [
        "# Mount Google Drive\n",
        "from google.colab import drive\n",
        "drive.mount('/content/drive')\n",
        "\n",
        "# Append custom library path (if you have a library to include)\n",
        "import sys\n",
        "custom_library_path = '/content/drive/MyDrive/your_custom_library'  # Update if you have any custom library\n",
        "sys.path.append(custom_library_path)\n",
        "\n"
      ]
    },
    {
      "cell_type": "code",
      "source": [
        "# Activate GPU for training\n",
        "!nvidia-smi"
      ],
      "metadata": {
        "colab": {
          "base_uri": "https://localhost:8080/"
        },
        "id": "Y6ZjO1DNNpqw",
        "outputId": "19824e32-45e0-41c3-d6f8-d1d68ef9cf73"
      },
      "execution_count": 2,
      "outputs": [
        {
          "output_type": "stream",
          "name": "stdout",
          "text": [
            "Fri Nov  8 20:28:10 2024       \n",
            "+---------------------------------------------------------------------------------------+\n",
            "| NVIDIA-SMI 535.104.05             Driver Version: 535.104.05   CUDA Version: 12.2     |\n",
            "|-----------------------------------------+----------------------+----------------------+\n",
            "| GPU  Name                 Persistence-M | Bus-Id        Disp.A | Volatile Uncorr. ECC |\n",
            "| Fan  Temp   Perf          Pwr:Usage/Cap |         Memory-Usage | GPU-Util  Compute M. |\n",
            "|                                         |                      |               MIG M. |\n",
            "|=========================================+======================+======================|\n",
            "|   0  Tesla T4                       Off | 00000000:00:04.0 Off |                    0 |\n",
            "| N/A   42C    P8               9W /  70W |      0MiB / 15360MiB |      0%      Default |\n",
            "|                                         |                      |                  N/A |\n",
            "+-----------------------------------------+----------------------+----------------------+\n",
            "                                                                                         \n",
            "+---------------------------------------------------------------------------------------+\n",
            "| Processes:                                                                            |\n",
            "|  GPU   GI   CI        PID   Type   Process name                            GPU Memory |\n",
            "|        ID   ID                                                             Usage      |\n",
            "|=======================================================================================|\n",
            "|  No running processes found                                                           |\n",
            "+---------------------------------------------------------------------------------------+\n"
          ]
        }
      ]
    },
    {
      "cell_type": "code",
      "source": [
        "# Import necessary libraries\n",
        "import torch\n",
        "import torch.nn as nn\n",
        "import torch.optim as optim\n",
        "import torchvision.transforms as transforms\n",
        "from torch.utils.data import DataLoader, Dataset\n",
        "import torchvision.models as models\n",
        "from torchvision.models import resnet50\n",
        "import cv2\n",
        "import os\n",
        "import numpy as np\n",
        "from sklearn.model_selection import train_test_split\n",
        "import matplotlib.pyplot as plt\n",
        "from sklearn.metrics import accuracy_score, classification_report"
      ],
      "metadata": {
        "id": "ozPEx281LTfv"
      },
      "execution_count": 3,
      "outputs": []
    },
    {
      "cell_type": "code",
      "source": [
        "# Step 3: Paths for images and masks\n",
        "covid_path = \"/content/drive/MyDrive/extracted_files/Pre-processing data/COVID19_xrays\"\n",
        "noncovid_path = \"/content/drive/MyDrive/extracted_files/Pre-processing data/NonCOVID19_xrays\"\n",
        "normal_path = \"/content/drive/MyDrive/extracted_files/Pre-processing data/Normal_xrays\"\n",
        "\n",
        "covid_mask_path = \"/content/drive/MyDrive/extracted_files/Pre-processing data/lung_masks_COVID19\"\n",
        "noncovid_mask_path = \"/content/drive/MyDrive/extracted_files/Pre-processing data/lung_masks_NonCOVID\"\n",
        "normal_mask_path = \"/content/drive/MyDrive/extracted_files/Pre-processing data/lung_masks_Normal\""
      ],
      "metadata": {
        "id": "1cZezwm9MB-y"
      },
      "execution_count": 4,
      "outputs": []
    },
    {
      "cell_type": "code",
      "source": [
        "# Parameters\n",
        "num_images = 1000\n",
        "image_size = 256\n",
        "batch_size = 128  # Increased batch size to better utilize GPU (!!!change to 256!!!!)\n",
        "num_workers = 8  # Reduce number of workers to avoid excessive worker creation warning\n",
        "device = torch.device(\"cuda\" if torch.cuda.is_available() else \"cpu\")\n",
        "\n",
        "# Load image and mask file paths\n",
        "def load_image_mask_paths(image_path, mask_path, num_images):\n",
        "    image_files = os.listdir(image_path)[:num_images]\n",
        "    image_paths = [os.path.join(image_path, img) for img in image_files]\n",
        "    mask_paths = [os.path.join(mask_path, img) for img in image_files]\n",
        "    return image_paths, mask_paths\n"
      ],
      "metadata": {
        "id": "IRyuL1CuMEro"
      },
      "execution_count": 5,
      "outputs": []
    },
    {
      "cell_type": "code",
      "source": [
        "# Load data paths\n",
        "covid_image_paths, covid_mask_paths = load_image_mask_paths(covid_path, covid_mask_path, num_images)\n",
        "noncovid_image_paths, noncovid_mask_paths = load_image_mask_paths(noncovid_path, noncovid_mask_path, num_images)\n",
        "normal_image_paths, normal_mask_paths = load_image_mask_paths(normal_path, normal_mask_path, num_images)\n",
        "\n",
        "# Create labels\n",
        "covid_labels = np.zeros(len(covid_image_paths))\n",
        "noncovid_labels = np.ones(len(noncovid_image_paths))\n",
        "normal_labels = np.full(len(normal_image_paths), 2)\n",
        "\n",
        "# Combine data\n",
        "image_paths = covid_image_paths + noncovid_image_paths + normal_image_paths\n",
        "mask_paths = covid_mask_paths + noncovid_mask_paths + normal_mask_paths\n",
        "labels = np.concatenate((covid_labels, noncovid_labels, normal_labels), axis=0)"
      ],
      "metadata": {
        "id": "KTAWl2Z5MVJJ"
      },
      "execution_count": 6,
      "outputs": []
    },
    {
      "cell_type": "code",
      "source": [
        "# Split data into train, validation, and test sets\n",
        "train_image_paths, test_image_paths, train_labels, test_labels, train_mask_paths, test_mask_paths = train_test_split(\n",
        "    image_paths, labels, mask_paths, test_size=0.3, random_state=42)\n",
        "val_image_paths, test_image_paths, val_labels, test_labels, val_mask_paths, test_mask_paths = train_test_split(\n",
        "    test_image_paths, test_labels, test_mask_paths, test_size=0.5, random_state=42)"
      ],
      "metadata": {
        "id": "l0Wx_p5Xb3G_"
      },
      "execution_count": 7,
      "outputs": []
    },
    {
      "cell_type": "code",
      "source": [
        "# Define custom Dataset class\n",
        "class XRayDataset(Dataset):\n",
        "    def __init__(self, image_paths, mask_paths, labels, transform=None):\n",
        "        self.image_paths = image_paths\n",
        "        self.mask_paths = mask_paths\n",
        "        self.labels = labels\n",
        "        self.transform = transform\n",
        "\n",
        "    def __len__(self):\n",
        "        return len(self.image_paths)\n",
        "\n",
        "    def __getitem__(self, idx):\n",
        "        # Load image and mask on-the-fly\n",
        "        image = cv2.imread(self.image_paths[idx], cv2.IMREAD_GRAYSCALE)\n",
        "        mask = cv2.imread(self.mask_paths[idx], cv2.IMREAD_GRAYSCALE)\n",
        "\n",
        "        if image is None or mask is None:\n",
        "            raise ValueError(f\"Error loading image or mask at index {idx}\")\n",
        "\n",
        "        image = cv2.resize(image, (image_size, image_size)) / 255.0\n",
        "        mask = cv2.resize(mask, (image_size, image_size)) / 255.0\n",
        "\n",
        "        # Apply mask to the image\n",
        "        image = image * mask\n",
        "        image = np.stack([image, image, image], axis=-1)  # Convert to 3 channels for ResNet50\n",
        "\n",
        "        label = self.labels[idx]\n",
        "\n",
        "        if self.transform:\n",
        "            image = self.transform(image)\n",
        "\n",
        "        return image, label"
      ],
      "metadata": {
        "id": "kwMSHlptbzms"
      },
      "execution_count": 8,
      "outputs": []
    },
    {
      "cell_type": "code",
      "source": [
        "# Define transformations for data augmentation and normalization for training dataset\n",
        "train_transform = transforms.Compose([\n",
        "    transforms.ToPILImage(),\n",
        "    transforms.RandomHorizontalFlip(),\n",
        "    transforms.RandomVerticalFlip(),  # Added vertical flip\n",
        "    transforms.RandomRotation(15),\n",
        "    transforms.RandomAffine(degrees=15, translate=(0.1, 0.1), scale=(0.9, 1.1), shear=10),\n",
        "    transforms.RandomResizedCrop(image_size, scale=(0.8, 1.0)),\n",
        "    transforms.ColorJitter(brightness=0.3, contrast=0.3, saturation=0.3, hue=0.2),\n",
        "    transforms.RandomPerspective(distortion_scale=0.2, p=0.5),  # Add perspective distortion\n",
        "    transforms.ElasticTransform(alpha=15.0, sigma=3.0),  # Add elastic transformation, change alpha and sigma to float\n",
        "    transforms.GaussianBlur(kernel_size=(5, 9), sigma=(0.1, 5)),  # Add Gaussian blur\n",
        "    transforms.ToTensor(),\n",
        "    transforms.Normalize(mean=[0.5, 0.5, 0.5], std=[0.5, 0.5, 0.5])\n",
        "])\n",
        "\n",
        "# Define transformations for validation and test datasets (no augmentation, just normalization)\n",
        "val_test_transform = transforms.Compose([\n",
        "    transforms.ToPILImage(),\n",
        "    transforms.ToTensor(),\n",
        "    transforms.Normalize(mean=[0.5, 0.5, 0.5], std=[0.5, 0.5, 0.5])\n",
        "])\n"
      ],
      "metadata": {
        "id": "i0BqEABEMaKI"
      },
      "execution_count": 9,
      "outputs": []
    },
    {
      "cell_type": "code",
      "source": [
        "# Create datasets and data loaders\n",
        "train_dataset = XRayDataset(train_image_paths, train_mask_paths, train_labels, transform=train_transform)\n",
        "val_dataset = XRayDataset(val_image_paths, val_mask_paths, val_labels, transform=val_test_transform)\n",
        "test_dataset = XRayDataset(test_image_paths, test_mask_paths, test_labels, transform=val_test_transform)\n",
        "\n",
        "train_loader = DataLoader(train_dataset, batch_size=batch_size, shuffle=True, num_workers=num_workers, pin_memory=True)\n",
        "val_loader = DataLoader(val_dataset, batch_size=batch_size, shuffle=False, num_workers=num_workers, pin_memory=True)\n",
        "test_loader = DataLoader(test_dataset, batch_size=batch_size, shuffle=False, num_workers=num_workers, pin_memory=True)"
      ],
      "metadata": {
        "id": "Bm9OKgl8cH1B"
      },
      "execution_count": 10,
      "outputs": []
    },
    {
      "cell_type": "code",
      "source": [
        "# Load pre-trained ResNet50 model\n",
        "resnet50 = models.resnet50(weights=models.ResNet50_Weights.DEFAULT)\n",
        "\n",
        "resnet50.fc = nn.Sequential(\n",
        "    nn.Linear(resnet50.fc.in_features, 512),\n",
        "    nn.ReLU(),\n",
        "    nn.Dropout(0.4),  # Increased dropout rate to reduce overfitting\n",
        "    nn.BatchNorm1d(512),\n",
        "    nn.Linear(512, 3)\n",
        ")  # Modify the output layer for 3 classes with dropout and batch normalization\n",
        "resnet50 = resnet50.to(device)"
      ],
      "metadata": {
        "colab": {
          "base_uri": "https://localhost:8080/"
        },
        "id": "D1butYk3cN0B",
        "outputId": "e21a3bf6-28e4-494b-9e08-f304db3015d1"
      },
      "execution_count": 11,
      "outputs": [
        {
          "output_type": "stream",
          "name": "stderr",
          "text": [
            "Downloading: \"https://download.pytorch.org/models/resnet50-11ad3fa6.pth\" to /root/.cache/torch/hub/checkpoints/resnet50-11ad3fa6.pth\n",
            "100%|██████████| 97.8M/97.8M [00:00<00:00, 210MB/s]\n"
          ]
        }
      ]
    },
    {
      "cell_type": "code",
      "source": [
        "# Define loss function and optimizer\n",
        "criterion = nn.CrossEntropyLoss()\n",
        "optimizer = optim.Adam(resnet50.parameters(), lr=0.0003, weight_decay=1e-3)  # Increased weight decay for stronger regularization\n",
        "scheduler = optim.lr_scheduler.OneCycleLR(optimizer, max_lr=0.001, steps_per_epoch=len(train_loader), epochs=30)  # Use OneCycleLR for optimal learning rate\n",
        "reduce_lr_on_plateau = optim.lr_scheduler.ReduceLROnPlateau(optimizer, mode='min', factor=0.1, patience=2)  # Reduce LR on plateau"
      ],
      "metadata": {
        "id": "Te3y5tVwMcmJ"
      },
      "execution_count": 12,
      "outputs": []
    },
    {
      "cell_type": "code",
      "source": [
        "# Training loop\n",
        "num_epochs = 30\n",
        "early_stopping_patience = 10\n",
        "best_val_loss = float('inf')\n",
        "early_stopping_counter = 0\n",
        "\n",
        "train_losses = []\n",
        "val_losses = []\n",
        "val_accuracies = []\n",
        "\n",
        "for epoch in range(num_epochs):\n",
        "    resnet50.train()\n",
        "    running_loss = 0.0\n",
        "    for images, labels in train_loader:\n",
        "        images, labels = images.to(device, non_blocking=True), labels.to(device, dtype=torch.long, non_blocking=True)\n",
        "\n",
        "        # Forward pass\n",
        "        outputs = resnet50(images)\n",
        "        loss = criterion(outputs, labels)\n",
        "\n",
        "        # Backward pass and optimization\n",
        "        optimizer.zero_grad()\n",
        "        loss.backward()\n",
        "        # Gradient clipping\n",
        "        nn.utils.clip_grad_norm_(resnet50.parameters(), max_norm=1.0)  # Reduced max norm for more stable training\n",
        "        optimizer.step()\n",
        "        scheduler.step()\n",
        "\n",
        "        running_loss += loss.item()\n",
        "\n",
        "    # Validation\n",
        "    resnet50.eval()\n",
        "    val_loss = 0.0\n",
        "    val_preds = []\n",
        "    val_targets = []\n",
        "    with torch.no_grad():\n",
        "        for images, labels in val_loader:\n",
        "            images, labels = images.to(device, non_blocking=True), labels.to(device, dtype=torch.long, non_blocking=True)\n",
        "            outputs = resnet50(images)\n",
        "            loss = criterion(outputs, labels)\n",
        "            val_loss += loss.item()\n",
        "\n",
        "            _, preds = torch.max(outputs, 1)\n",
        "            val_preds.extend(preds.cpu().numpy())\n",
        "            val_targets.extend(labels.cpu().numpy())\n",
        "\n",
        "    train_loss_avg = running_loss / len(train_loader)\n",
        "    val_loss_avg = val_loss / len(val_loader)\n",
        "    train_losses.append(train_loss_avg)\n",
        "    val_losses.append(val_loss_avg)\n",
        "\n",
        "    val_accuracy = accuracy_score(val_targets, val_preds)\n",
        "    val_accuracies.append(val_accuracy)\n",
        "    print(f\"Epoch [{epoch+1}/{num_epochs}], Loss: {train_loss_avg:.4f}, Validation Loss: {val_loss_avg:.4f}, Validation Accuracy: {val_accuracy:.4f}\")\n",
        "\n",
        "    # Early stopping\n",
        "    if val_loss < best_val_loss:\n",
        "        best_val_loss = val_loss\n",
        "        early_stopping_counter = 0\n",
        "        # Save the best model\n",
        "        torch.save(resnet50.state_dict(), 'best_resnet50_model.pth')\n",
        "    else:\n",
        "        early_stopping_counter += 1\n",
        "        if early_stopping_counter >= early_stopping_patience:\n",
        "            print(\"Early stopping triggered.\")\n",
        "            break\n",
        "\n",
        "print(\"Training complete.\")"
      ],
      "metadata": {
        "colab": {
          "base_uri": "https://localhost:8080/"
        },
        "id": "V-E5MKIoMgRq",
        "outputId": "f30c61e2-dfec-4787-d3bf-bf86eea990cc"
      },
      "execution_count": 13,
      "outputs": [
        {
          "output_type": "stream",
          "name": "stdout",
          "text": [
            "Epoch [1/30], Loss: 1.0168, Validation Loss: 1.0534, Validation Accuracy: 0.5200\n",
            "Epoch [2/30], Loss: 0.7209, Validation Loss: 0.9813, Validation Accuracy: 0.5067\n",
            "Epoch [3/30], Loss: 0.5898, Validation Loss: 1.0879, Validation Accuracy: 0.4956\n",
            "Epoch [4/30], Loss: 0.5265, Validation Loss: 0.8718, Validation Accuracy: 0.6267\n",
            "Epoch [5/30], Loss: 0.5044, Validation Loss: 0.9049, Validation Accuracy: 0.6156\n",
            "Epoch [6/30], Loss: 0.5196, Validation Loss: 0.9734, Validation Accuracy: 0.4422\n",
            "Epoch [7/30], Loss: 0.4965, Validation Loss: 1.8254, Validation Accuracy: 0.5444\n",
            "Epoch [8/30], Loss: 0.4766, Validation Loss: 0.7267, Validation Accuracy: 0.6667\n",
            "Epoch [9/30], Loss: 0.5193, Validation Loss: 5.4067, Validation Accuracy: 0.5889\n",
            "Epoch [10/30], Loss: 0.4751, Validation Loss: 0.7186, Validation Accuracy: 0.7022\n",
            "Epoch [11/30], Loss: 0.4565, Validation Loss: 0.4326, Validation Accuracy: 0.8489\n",
            "Epoch [12/30], Loss: 0.4420, Validation Loss: 0.6428, Validation Accuracy: 0.7956\n",
            "Epoch [13/30], Loss: 0.4565, Validation Loss: 1.0246, Validation Accuracy: 0.6333\n",
            "Epoch [14/30], Loss: 0.4702, Validation Loss: 1.0953, Validation Accuracy: 0.6800\n",
            "Epoch [15/30], Loss: 0.4357, Validation Loss: 0.6567, Validation Accuracy: 0.6867\n",
            "Epoch [16/30], Loss: 0.4063, Validation Loss: 0.5058, Validation Accuracy: 0.8333\n",
            "Epoch [17/30], Loss: 0.3900, Validation Loss: 0.7151, Validation Accuracy: 0.6778\n",
            "Epoch [18/30], Loss: 0.3687, Validation Loss: 0.5643, Validation Accuracy: 0.7422\n",
            "Epoch [19/30], Loss: 0.3812, Validation Loss: 0.7401, Validation Accuracy: 0.7067\n",
            "Epoch [20/30], Loss: 0.3636, Validation Loss: 0.3914, Validation Accuracy: 0.8378\n",
            "Epoch [21/30], Loss: 0.3309, Validation Loss: 0.4997, Validation Accuracy: 0.8089\n",
            "Epoch [22/30], Loss: 0.3219, Validation Loss: 0.6240, Validation Accuracy: 0.7778\n",
            "Epoch [23/30], Loss: 0.3194, Validation Loss: 0.6028, Validation Accuracy: 0.7311\n",
            "Epoch [24/30], Loss: 0.2802, Validation Loss: 0.3417, Validation Accuracy: 0.8622\n",
            "Epoch [25/30], Loss: 0.2801, Validation Loss: 0.3086, Validation Accuracy: 0.8822\n",
            "Epoch [26/30], Loss: 0.2737, Validation Loss: 0.2639, Validation Accuracy: 0.9022\n",
            "Epoch [27/30], Loss: 0.2580, Validation Loss: 0.2683, Validation Accuracy: 0.9000\n",
            "Epoch [28/30], Loss: 0.2539, Validation Loss: 0.2665, Validation Accuracy: 0.8911\n",
            "Epoch [29/30], Loss: 0.2522, Validation Loss: 0.2685, Validation Accuracy: 0.8911\n",
            "Epoch [30/30], Loss: 0.2517, Validation Loss: 0.2667, Validation Accuracy: 0.8956\n",
            "Training complete.\n"
          ]
        }
      ]
    },
    {
      "cell_type": "code",
      "source": [
        "# Plot convergence\n",
        "plt.figure(figsize=(10, 5))\n",
        "plt.plot(range(1, len(train_losses) + 1), train_losses, label='Training Loss')\n",
        "plt.plot(range(1, len(val_losses) + 1), val_losses, label='Validation Loss')\n",
        "plt.xlabel('Epochs')\n",
        "plt.ylabel('Loss')\n",
        "plt.title('Training and Validation Loss Convergence')\n",
        "plt.legend()\n",
        "plt.show()"
      ],
      "metadata": {
        "colab": {
          "base_uri": "https://localhost:8080/",
          "height": 479
        },
        "id": "spNtEU09MkNB",
        "outputId": "d96e10a7-6263-4105-c6fc-e43e3b61486e"
      },
      "execution_count": 14,
      "outputs": [
        {
          "output_type": "display_data",
          "data": {
            "text/plain": [
              "<Figure size 1000x500 with 1 Axes>"
            ],
            "image/png": "[encoded data removed]"
          },
          "metadata": {}
        }
      ]
    },
    {
      "cell_type": "code",
      "source": [
        "# Evaluate on test set\n",
        "resnet50.eval()\n",
        "test_preds = []\n",
        "test_targets = []\n",
        "with torch.no_grad():\n",
        "    for images, labels in test_loader:\n",
        "        images, labels = images.to(device, non_blocking=True), labels.to(device, dtype=torch.long, non_blocking=True)\n",
        "        outputs = resnet50(images)\n",
        "        _, preds = torch.max(outputs, 1)\n",
        "        test_preds.extend(preds.cpu().numpy())\n",
        "        test_targets.extend(labels.cpu().numpy())\n",
        "\n",
        "test_accuracy = accuracy_score(test_targets, test_preds)\n",
        "print(f\"Test Accuracy: {test_accuracy:.4f}\")\n",
        "print(\"Classification Report:\")\n",
        "print(classification_report(test_targets, test_preds, target_names=['COVID', 'Non-COVID', 'Normal']))\n"
      ],
      "metadata": {
        "colab": {
          "base_uri": "https://localhost:8080/"
        },
        "id": "Vv4dnnVRZbiP",
        "outputId": "f905f021-f683-4779-cae4-8afc1a30f68e"
      },
      "execution_count": 15,
      "outputs": [
        {
          "output_type": "stream",
          "name": "stdout",
          "text": [
            "Test Accuracy: 0.9067\n",
            "Classification Report:\n",
            "              precision    recall  f1-score   support\n",
            "\n",
            "       COVID       0.96      0.83      0.89       151\n",
            "   Non-COVID       0.93      0.97      0.95       152\n",
            "      Normal       0.84      0.92      0.88       147\n",
            "\n",
            "    accuracy                           0.91       450\n",
            "   macro avg       0.91      0.91      0.91       450\n",
            "weighted avg       0.91      0.91      0.91       450\n",
            "\n"
          ]
        }
      ]
    },
    {
      "cell_type": "code",
      "source": [
        "# Save the final model\n",
        "model_save_path = '/content/drive/MyDrive/final_CNN_resnet50_model.pth'\n",
        "torch.save(resnet50.state_dict(), model_save_path)\n",
        "print(f'Model saved to {model_save_path}')"
      ],
      "metadata": {
        "colab": {
          "base_uri": "https://localhost:8080/"
        },
        "id": "R69zWFLfjb4B",
        "outputId": "07ae7daf-9fcf-40ac-f63c-db26f14dbf51"
      },
      "execution_count": 17,
      "outputs": [
        {
          "output_type": "stream",
          "name": "stdout",
          "text": [
            "Model saved to /content/drive/MyDrive/final_CNN_resnet50_model.pth\n"
          ]
        }
      ]
    }
  ]
}