{
  "nbformat": 4,
  "nbformat_minor": 0,
  "metadata": {
    "colab": {
      "provenance": [],
      "machine_shape": "hm",
      "gpuType": "T4"
    },
    "kernelspec": {
      "name": "python3",
      "display_name": "Python 3"
    },
    "language_info": {
      "name": "python"
    },
    "accelerator": "GPU"
  },
  "cells": [
    {
      "cell_type": "code",
      "execution_count": null,
      "metadata": {
        "colab": {
          "base_uri": "https://localhost:8080/"
        },
        "id": "8UDphsJNLJhU",
        "outputId": "c6b0f211-80c9-4671-88d2-802e3fa37e5f"
      },
      "outputs": [
        {
          "output_type": "stream",
          "name": "stdout",
          "text": [
            "Mounted at /content/drive\n"
          ]
        }
      ],
      "source": [
        "# Mount Google Drive\n",
        "from google.colab import drive\n",
        "drive.mount('/content/drive')\n",
        "\n",
        "# Append custom library path (if you have a library to include)\n",
        "import sys\n",
        "custom_library_path = '/content/drive/MyDrive/your_custom_library'  # Update if you have any custom library\n",
        "sys.path.append(custom_library_path)\n",
        "\n"
      ]
    },
    {
      "cell_type": "code",
      "source": [
        "# Activate GPU for training\n",
        "!nvidia-smi"
      ],
      "metadata": {
        "colab": {
          "base_uri": "https://localhost:8080/"
        },
        "id": "Y6ZjO1DNNpqw",
        "outputId": "dad3e40f-d8c7-44fc-c0c0-521142561e78"
      },
      "execution_count": null,
      "outputs": [
        {
          "output_type": "stream",
          "name": "stdout",
          "text": [
            "Fri Nov  8 01:22:31 2024       \n",
            "+---------------------------------------------------------------------------------------+\n",
            "| NVIDIA-SMI 535.104.05             Driver Version: 535.104.05   CUDA Version: 12.2     |\n",
            "|-----------------------------------------+----------------------+----------------------+\n",
            "| GPU  Name                 Persistence-M | Bus-Id        Disp.A | Volatile Uncorr. ECC |\n",
            "| Fan  Temp   Perf          Pwr:Usage/Cap |         Memory-Usage | GPU-Util  Compute M. |\n",
            "|                                         |                      |               MIG M. |\n",
            "|=========================================+======================+======================|\n",
            "|   0  Tesla T4                       Off | 00000000:00:04.0 Off |                    0 |\n",
            "| N/A   44C    P8               9W /  70W |      0MiB / 15360MiB |      0%      Default |\n",
            "|                                         |                      |                  N/A |\n",
            "+-----------------------------------------+----------------------+----------------------+\n",
            "                                                                                         \n",
            "+---------------------------------------------------------------------------------------+\n",
            "| Processes:                                                                            |\n",
            "|  GPU   GI   CI        PID   Type   Process name                            GPU Memory |\n",
            "|        ID   ID                                                             Usage      |\n",
            "|=======================================================================================|\n",
            "|  No running processes found                                                           |\n",
            "+---------------------------------------------------------------------------------------+\n"
          ]
        }
      ]
    },
    {
      "cell_type": "code",
      "source": [
        "# Import necessary libraries\n",
        "import torch\n",
        "import torch.nn as nn\n",
        "import torch.optim as optim\n",
        "import torchvision.transforms as transforms\n",
        "from torch.utils.data import DataLoader, Dataset\n",
        "import torchvision.models as models\n",
        "import cv2\n",
        "import os\n",
        "import numpy as np\n",
        "from sklearn.model_selection import train_test_split\n",
        "from sklearn.metrics import accuracy_score, classification_report\n",
        "import matplotlib.pyplot as plt"
      ],
      "metadata": {
        "id": "ozPEx281LTfv"
      },
      "execution_count": null,
      "outputs": []
    },
    {
      "cell_type": "code",
      "source": [
        "# Step 3: Paths for images and masks\n",
        "covid_path = \"/content/drive/MyDrive/extracted_files/Pre-processing data/COVID19_xrays\"\n",
        "noncovid_path = \"/content/drive/MyDrive/extracted_files/Pre-processing data/NonCOVID19_xrays\"\n",
        "normal_path = \"/content/drive/MyDrive/extracted_files/Pre-processing data/Normal_xrays\"\n",
        "\n",
        "covid_mask_path = \"/content/drive/MyDrive/extracted_files/Pre-processing data/lung_masks_COVID19\"\n",
        "noncovid_mask_path = \"/content/drive/MyDrive/extracted_files/Pre-processing data/lung_masks_NonCOVID\"\n",
        "normal_mask_path = \"/content/drive/MyDrive/extracted_files/Pre-processing data/lung_masks_Normal\""
      ],
      "metadata": {
        "id": "1cZezwm9MB-y"
      },
      "execution_count": null,
      "outputs": []
    },
    {
      "cell_type": "code",
      "source": [
        "# Parameters\n",
        "num_images = 1000\n",
        "image_size = 256\n",
        "batch_size = 64\n",
        "device = torch.device(\"cuda\" if torch.cuda.is_available() else \"cpu\")\n",
        "\n",
        "# Load image and mask file paths\n",
        "def load_image_mask_paths(image_path, mask_path, num_images):\n",
        "    image_files = os.listdir(image_path)[:num_images]\n",
        "    image_paths = [os.path.join(image_path, img) for img in image_files]\n",
        "    mask_paths = [os.path.join(mask_path, img) for img in image_files]\n",
        "    return image_paths, mask_paths\n"
      ],
      "metadata": {
        "id": "IRyuL1CuMEro"
      },
      "execution_count": null,
      "outputs": []
    },
    {
      "cell_type": "code",
      "source": [
        "# Load data paths\n",
        "covid_image_paths, covid_mask_paths = load_image_mask_paths(covid_path, covid_mask_path, num_images)\n",
        "noncovid_image_paths, noncovid_mask_paths = load_image_mask_paths(noncovid_path, noncovid_mask_path, num_images)\n",
        "normal_image_paths, normal_mask_paths = load_image_mask_paths(normal_path, normal_mask_path, num_images)\n",
        "\n",
        "# Create labels\n",
        "covid_labels = np.zeros(len(covid_image_paths))\n",
        "noncovid_labels = np.ones(len(noncovid_image_paths))\n",
        "normal_labels = np.full(len(normal_image_paths), 2)\n",
        "\n",
        "# Combine data\n",
        "image_paths = covid_image_paths + noncovid_image_paths + normal_image_paths\n",
        "mask_paths = covid_mask_paths + noncovid_mask_paths + normal_mask_paths\n",
        "labels = np.concatenate((covid_labels, noncovid_labels, normal_labels), axis=0)\n",
        "\n",
        "# Split data into train, validation, and test sets\n",
        "train_image_paths, test_image_paths, train_labels, test_labels, train_mask_paths, test_mask_paths = train_test_split(\n",
        "    image_paths, labels, mask_paths, test_size=0.3, random_state=42)\n",
        "val_image_paths, test_image_paths, val_labels, test_labels, val_mask_paths, test_mask_paths = train_test_split(\n",
        "    test_image_paths, test_labels, test_mask_paths, test_size=0.5, random_state=42)\n",
        "\n",
        "# Define custom Dataset class\n",
        "class XRayDataset(Dataset):\n",
        "    def __init__(self, image_paths, mask_paths, labels, transform=None):\n",
        "        self.image_paths = image_paths\n",
        "        self.mask_paths = mask_paths\n",
        "        self.labels = labels\n",
        "        self.transform = transform\n",
        "\n",
        "    def __len__(self):\n",
        "        return len(self.image_paths)\n",
        "\n",
        "    def __getitem__(self, idx):\n",
        "        # Load image and mask on-the-fly\n",
        "        image = cv2.imread(self.image_paths[idx], cv2.IMREAD_GRAYSCALE)\n",
        "        mask = cv2.imread(self.mask_paths[idx], cv2.IMREAD_GRAYSCALE)\n",
        "\n",
        "        if image is None or mask is None:\n",
        "            raise ValueError(f\"Error loading image or mask at index {idx}\")\n",
        "\n",
        "        image = cv2.resize(image, (image_size, image_size)) / 255.0\n",
        "        mask = cv2.resize(mask, (image_size, image_size)) / 255.0\n",
        "\n",
        "        # Apply mask to the image\n",
        "        image = image * mask\n",
        "        image = np.stack([image, image, image], axis=-1)  # Convert to 3 channels for ResNet50\n",
        "\n",
        "        label = self.labels[idx]\n",
        "\n",
        "        if self.transform:\n",
        "            image = self.transform(image)\n",
        "\n",
        "        return image, label"
      ],
      "metadata": {
        "id": "KTAWl2Z5MVJJ"
      },
      "execution_count": null,
      "outputs": []
    },
    {
      "cell_type": "code",
      "source": [
        "# Define transformations for data augmentation and normalization for training dataset\n",
        "train_transform = transforms.Compose([\n",
        "    transforms.ToPILImage(),\n",
        "    transforms.RandomHorizontalFlip(),\n",
        "    transforms.RandomRotation(15),\n",
        "    transforms.RandomAffine(degrees=15, translate=(0.1, 0.1), scale=(0.9, 1.1), shear=10),\n",
        "    transforms.RandomResizedCrop(image_size, scale=(0.8, 1.0)),\n",
        "    transforms.ColorJitter(brightness=0.3, contrast=0.3, saturation=0.3, hue=0.2),\n",
        "    transforms.RandomPerspective(distortion_scale=0.2, p=0.5),  # Add perspective distortion\n",
        "    transforms.GaussianBlur(kernel_size=(5, 9), sigma=(0.1, 5)),  # Add Gaussian blur\n",
        "    transforms.ToTensor(),\n",
        "    transforms.Normalize(mean=[0.5, 0.5, 0.5], std=[0.5, 0.5, 0.5])\n",
        "])\n",
        "\n",
        "# Define transformations for validation and test datasets (no augmentation, just normalization)\n",
        "val_test_transform = transforms.Compose([\n",
        "    transforms.ToPILImage(),\n",
        "    transforms.ToTensor(),\n",
        "    transforms.Normalize(mean=[0.5, 0.5, 0.5], std=[0.5, 0.5, 0.5])\n",
        "])\n"
      ],
      "metadata": {
        "id": "i0BqEABEMaKI"
      },
      "execution_count": null,
      "outputs": []
    },
    {
      "cell_type": "code",
      "source": [
        "# Create datasets and data loaders\n",
        "train_dataset = XRayDataset(train_image_paths, train_mask_paths, train_labels, transform=train_transform)\n",
        "val_dataset = XRayDataset(val_image_paths, val_mask_paths, val_labels, transform=val_test_transform)\n",
        "test_dataset = XRayDataset(test_image_paths, test_mask_paths, test_labels, transform=val_test_transform)\n",
        "\n",
        "train_loader = DataLoader(train_dataset, batch_size=batch_size, shuffle=True, num_workers=16, pin_memory=True)\n",
        "val_loader = DataLoader(val_dataset, batch_size=batch_size, shuffle=False, num_workers=16, pin_memory=True)\n",
        "test_loader = DataLoader(test_dataset, batch_size=batch_size, shuffle=False, num_workers=16, pin_memory=True)\n",
        "\n",
        "# Load pre-trained ResNet50 model\n",
        "resnet50 = models.resnet50(weights=models.ResNet50_Weights.DEFAULT)\n",
        "\n",
        "resnet50.fc = nn.Sequential(\n",
        "    nn.Linear(resnet50.fc.in_features, 512),\n",
        "    nn.ReLU(),\n",
        "    nn.Dropout(0.3),  # Reduced dropout rate\n",
        "    nn.BatchNorm1d(512),\n",
        "    nn.Linear(512, 3)\n",
        ")  # Modify the output layer for 3 classes with dropout and batch normalization\n",
        "resnet50 = resnet50.to(device)\n",
        "\n",
        "# Define loss function and optimizer\n",
        "criterion = nn.CrossEntropyLoss()\n",
        "optimizer = optim.Adam(resnet50.parameters(), lr=0.0003, weight_decay=1e-4)  # Lower learning rate and add L2 regularization\n",
        "scheduler = optim.lr_scheduler.CosineAnnealingLR(optimizer, T_max=10)  # Use cosine annealing scheduler\n",
        "reduce_lr_on_plateau = optim.lr_scheduler.ReduceLROnPlateau(optimizer, mode='min', factor=0.1, patience=2)  # Reduce LR on plateau\n",
        "\n"
      ],
      "metadata": {
        "colab": {
          "base_uri": "https://localhost:8080/"
        },
        "id": "Te3y5tVwMcmJ",
        "outputId": "d52fdf75-2d0e-4881-e73b-eaf485cf9ba0"
      },
      "execution_count": null,
      "outputs": [
        {
          "output_type": "stream",
          "name": "stderr",
          "text": [
            "/usr/local/lib/python3.10/dist-packages/torch/utils/data/dataloader.py:617: UserWarning: This DataLoader will create 16 worker processes in total. Our suggested max number of worker in current system is 8, which is smaller than what this DataLoader is going to create. Please be aware that excessive worker creation might get DataLoader running slow or even freeze, lower the worker number to avoid potential slowness/freeze if necessary.\n",
            "  warnings.warn(\n",
            "Downloading: \"https://download.pytorch.org/models/resnet50-11ad3fa6.pth\" to /root/.cache/torch/hub/checkpoints/resnet50-11ad3fa6.pth\n",
            "100%|██████████| 97.8M/97.8M [00:00<00:00, 202MB/s]\n"
          ]
        }
      ]
    },
    {
      "cell_type": "code",
      "source": [
        "# Training loop\n",
        "num_epochs = 10\n",
        "early_stopping_patience = 5\n",
        "best_val_loss = float('inf')\n",
        "early_stopping_counter = 0\n",
        "\n",
        "train_losses = []\n",
        "val_losses = []\n",
        "\n",
        "for epoch in range(num_epochs):\n",
        "    resnet50.train()\n",
        "    running_loss = 0.0\n",
        "    for images, labels in train_loader:\n",
        "        images, labels = images.to(device, non_blocking=True), labels.to(device, dtype=torch.long, non_blocking=True)\n",
        "\n",
        "        # Forward pass\n",
        "        outputs = resnet50(images)\n",
        "        loss = criterion(outputs, labels)\n",
        "\n",
        "        # Backward pass and optimization\n",
        "        optimizer.zero_grad()\n",
        "        loss.backward()\n",
        "        # Gradient clipping\n",
        "        nn.utils.clip_grad_norm_(resnet50.parameters(), max_norm=2.0)\n",
        "        optimizer.step()\n",
        "\n",
        "        running_loss += loss.item()\n",
        "\n",
        "    # Validation\n",
        "    resnet50.eval()\n",
        "    val_loss = 0.0\n",
        "    with torch.no_grad():\n",
        "        for images, labels in val_loader:\n",
        "            images, labels = images.to(device, non_blocking=True), labels.to(device, dtype=torch.long, non_blocking=True)\n",
        "            outputs = resnet50(images)\n",
        "            loss = criterion(outputs, labels)\n",
        "            val_loss += loss.item()\n",
        "\n",
        "    # Update learning rate scheduler\n",
        "    scheduler.step()\n",
        "    reduce_lr_on_plateau.step(val_loss / len(val_loader))\n",
        "\n",
        "    train_loss_avg = running_loss / len(train_loader)\n",
        "    val_loss_avg = val_loss / len(val_loader)\n",
        "    train_losses.append(train_loss_avg)\n",
        "    val_losses.append(val_loss_avg)\n",
        "\n",
        "    print(f\"Epoch [{epoch+1}/{num_epochs}], Loss: {train_loss_avg:.4f}, Validation Loss: {val_loss_avg:.4f}\")\n",
        "\n",
        "    # Early stopping\n",
        "    if val_loss < best_val_loss:\n",
        "        best_val_loss = val_loss\n",
        "        early_stopping_counter = 0\n",
        "    else:\n",
        "        early_stopping_counter += 1\n",
        "        if early_stopping_counter >= early_stopping_patience:\n",
        "            print(\"Early stopping triggered.\")\n",
        "            break\n",
        "\n",
        "print(\"Training complete.\")\n"
      ],
      "metadata": {
        "colab": {
          "base_uri": "https://localhost:8080/"
        },
        "id": "V-E5MKIoMgRq",
        "outputId": "92da6f87-ffeb-4998-d698-9b8075f6cf31"
      },
      "execution_count": null,
      "outputs": [
        {
          "output_type": "stream",
          "name": "stdout",
          "text": [
            "Epoch [1/10], Loss: 0.8104, Validation Loss: 0.8528\n",
            "Epoch [2/10], Loss: 0.5873, Validation Loss: 0.6758\n",
            "Epoch [3/10], Loss: 0.5405, Validation Loss: 0.6492\n",
            "Epoch [4/10], Loss: 0.4762, Validation Loss: 0.4854\n",
            "Epoch [5/10], Loss: 0.4448, Validation Loss: 0.3651\n",
            "Epoch [6/10], Loss: 0.3941, Validation Loss: 0.3632\n",
            "Epoch [7/10], Loss: 0.3616, Validation Loss: 0.3661\n",
            "Epoch [8/10], Loss: 0.3135, Validation Loss: 0.4265\n",
            "Epoch [9/10], Loss: 0.2783, Validation Loss: 0.4298\n",
            "Epoch [10/10], Loss: 0.2769, Validation Loss: 0.3867\n",
            "Training complete.\n"
          ]
        }
      ]
    },
    {
      "cell_type": "code",
      "source": [
        "# Plot convergence\n",
        "plt.figure(figsize=(10, 5))\n",
        "plt.plot(range(1, len(train_losses) + 1), train_losses, label='Training Loss')\n",
        "plt.plot(range(1, len(val_losses) + 1), val_losses, label='Validation Loss')\n",
        "plt.xlabel('Epochs')\n",
        "plt.ylabel('Loss')\n",
        "plt.title('Training and Validation Loss Convergence')\n",
        "plt.legend()\n",
        "plt.show()"
      ],
      "metadata": {
        "colab": {
          "base_uri": "https://localhost:8080/",
          "height": 454
        },
        "id": "spNtEU09MkNB",
        "outputId": "96759684-69b5-4823-bf18-418195c2402d"
      },
      "execution_count": null,
      "outputs": [
        {
          "output_type": "display_data",
          "data": {
            "text/plain": [
              "<Figure size 1000x500 with 1 Axes>"
            ],
            "image/png": "[encoded data removed]"
          },
          "metadata": {}
        }
      ]
    },
    {
      "cell_type": "code",
      "source": [
        "from sklearn.metrics import accuracy_score, classification_report"
      ],
      "metadata": {
        "id": "is6VipN-c06p"
      },
      "execution_count": null,
      "outputs": []
    },
    {
      "cell_type": "code",
      "source": [
        "# Evaluate on test set\n",
        "resnet50.eval()\n",
        "test_preds = []\n",
        "test_targets = []\n",
        "with torch.no_grad():\n",
        "    for images, labels in test_loader:\n",
        "        images, labels = images.to(device, non_blocking=True), labels.to(device, dtype=torch.long, non_blocking=True)\n",
        "        outputs = resnet50(images)\n",
        "        _, preds = torch.max(outputs, 1)\n",
        "        test_preds.extend(preds.cpu().numpy())\n",
        "        test_targets.extend(labels.cpu().numpy())\n",
        "\n",
        "test_accuracy = accuracy_score(test_targets, test_preds)\n",
        "print(f\"Test Accuracy: {test_accuracy:.4f}\")\n",
        "print(\"Classification Report:\")\n",
        "print(classification_report(test_targets, test_preds, target_names=['COVID', 'Non-COVID', 'Normal']))\n"
      ],
      "metadata": {
        "colab": {
          "base_uri": "https://localhost:8080/"
        },
        "id": "Vv4dnnVRZbiP",
        "outputId": "56273f01-f2fb-4af4-daf0-c6fd0bab3abc"
      },
      "execution_count": null,
      "outputs": [
        {
          "output_type": "stream",
          "name": "stderr",
          "text": [
            "/usr/local/lib/python3.10/dist-packages/torch/utils/data/dataloader.py:617: UserWarning: This DataLoader will create 16 worker processes in total. Our suggested max number of worker in current system is 8, which is smaller than what this DataLoader is going to create. Please be aware that excessive worker creation might get DataLoader running slow or even freeze, lower the worker number to avoid potential slowness/freeze if necessary.\n",
            "  warnings.warn(\n"
          ]
        },
        {
          "output_type": "stream",
          "name": "stdout",
          "text": [
            "Test Accuracy: 0.8156\n",
            "Classification Report:\n",
            "              precision    recall  f1-score   support\n",
            "\n",
            "       COVID       0.98      0.74      0.84       151\n",
            "   Non-COVID       0.75      0.91      0.82       152\n",
            "      Normal       0.78      0.80      0.79       147\n",
            "\n",
            "    accuracy                           0.82       450\n",
            "   macro avg       0.83      0.82      0.82       450\n",
            "weighted avg       0.84      0.82      0.82       450\n",
            "\n"
          ]
        }
      ]
    },
    {
      "cell_type": "code",
      "source": [
        "import torch\n",
        "from torch.utils.data import get_worker_info\n",
        "\n",
        "# Get worker information if available (will be None if num_workers is 0)\n",
        "worker_info = get_worker_info()\n",
        "\n",
        "if worker_info is not None:\n",
        "    # Get the recommended number of workers from PyTorch\n",
        "    num_workers = worker_info.num_workers\n",
        "    print(f\"Recommended num_workers: {num_workers}\")\n",
        "else:\n",
        "    # If num_workers is 0, use a default value\n",
        "    num_workers = 0  # Or you could use a different default\n",
        "    print(\"No worker information available, using default num_workers:\", num_workers)\n"
      ],
      "metadata": {
        "id": "sMiPyqT_dQqv",
        "outputId": "d21613c4-3468-46da-bf09-7bc52374ed1e",
        "colab": {
          "base_uri": "https://localhost:8080/"
        }
      },
      "execution_count": null,
      "outputs": [
        {
          "output_type": "stream",
          "name": "stdout",
          "text": [
            "No worker information available, using default num_workers: 0\n"
          ]
        }
      ]
    }
  ]
}